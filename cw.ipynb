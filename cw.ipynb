{
 "cells": [
  {
   "cell_type": "code",
   "execution_count": 1,
   "metadata": {},
   "outputs": [
    {
     "name": "stderr",
     "output_type": "stream",
     "text": [
      "Using TensorFlow backend.\n"
     ]
    }
   ],
   "source": [
    "from keras.models import load_model\n",
    "\n",
    "from art.utils import load_dataset\n",
    "from art.classifiers import KerasClassifier\n",
    "from art.attacks.fast_gradient import FastGradientMethod\n",
    "from art.attacks.iterative_method import BasicIterativeMethod\n",
    "from art.defences.adversarial_trainer import AdversarialTrainer\n",
    "from art.utils import load_mnist, random_targets\n",
    "\n",
    "import numpy as np\n",
    "\n",
    "from PIL import Image\n",
    "\n",
    "%matplotlib inline\n",
    "import matplotlib.pyplot as plt"
   ]
  },
  {
   "cell_type": "code",
   "execution_count": 2,
   "metadata": {},
   "outputs": [],
   "source": [
    "(x_train, y_train), (x_test, y_test), min_, max_ = load_dataset('mnist')"
   ]
  },
  {
   "cell_type": "code",
   "execution_count": 3,
   "metadata": {},
   "outputs": [
    {
     "name": "stdout",
     "output_type": "stream",
     "text": [
      "Epoch 1/10\n",
      "600/600 [==============================] - 35s 59ms/step - loss: 0.0016 - acc: 0.9997\n",
      "Epoch 2/10\n",
      "600/600 [==============================] - 32s 54ms/step - loss: 7.0949e-04 - acc: 0.9999\n",
      "Epoch 3/10\n",
      "600/600 [==============================] - 46s 77ms/step - loss: 7.6020e-04 - acc: 0.9999\n",
      "Epoch 4/10\n",
      "600/600 [==============================] - 45s 75ms/step - loss: 2.7627e-04 - acc: 1.0000\n",
      "Epoch 5/10\n",
      "600/600 [==============================] - 38s 64ms/step - loss: 2.6950e-04 - acc: 1.0000\n",
      "Epoch 6/10\n",
      "600/600 [==============================] - 35s 58ms/step - loss: 2.7200e-04 - acc: 1.0000\n",
      "Epoch 7/10\n",
      "600/600 [==============================] - 44s 73ms/step - loss: 3.7362e-07 - acc: 1.0000\n",
      "Epoch 8/10\n",
      "600/600 [==============================] - 44s 74ms/step - loss: 2.6885e-04 - acc: 1.0000\n",
      "Epoch 9/10\n",
      "600/600 [==============================] - 32s 53ms/step - loss: 5.3749e-04 - acc: 1.0000\n",
      "Epoch 10/10\n",
      "600/600 [==============================] - 36s 60ms/step - loss: 2.1961e-07 - acc: 1.0000\n"
     ]
    }
   ],
   "source": [
    "classifier_model = load_model(\"./mnist_cnn_original.h5\")\n",
    "classifier = KerasClassifier((min_, max_), classifier_model, use_logits=False)\n",
    "classifier.fit(x_train, y_train, batch_size=100, nb_epochs=10)"
   ]
  },
  {
   "cell_type": "code",
   "execution_count": 4,
   "metadata": {},
   "outputs": [
    {
     "data": {
      "text/plain": [
       "<art.classifiers.keras.KerasClassifier at 0x14273cb38>"
      ]
     },
     "execution_count": 4,
     "metadata": {},
     "output_type": "execute_result"
    }
   ],
   "source": [
    "classifier"
   ]
  },
  {
   "cell_type": "code",
   "execution_count": null,
   "metadata": {},
   "outputs": [],
   "source": []
  },
  {
   "cell_type": "code",
   "execution_count": 7,
   "metadata": {},
   "outputs": [],
   "source": [
    "num_of_test = 500"
   ]
  },
  {
   "cell_type": "markdown",
   "metadata": {},
   "source": [
    "# Origin Classifier"
   ]
  },
  {
   "cell_type": "code",
   "execution_count": 8,
   "metadata": {
    "scrolled": true
   },
   "outputs": [
    {
     "name": "stdout",
     "output_type": "stream",
     "text": [
      "Original test data (first 500 images):\n",
      "Correctly classified: 495\n",
      "Incorrectly classified: 5\n"
     ]
    }
   ],
   "source": [
    "x_test_pred = np.argmax(classifier.predict(x_test[:num_of_test]), axis=1)\n",
    "nb_correct_pred = np.sum(x_test_pred == np.argmax(y_test[:num_of_test], axis=1))\n",
    "\n",
    "print(\"Original test data (first {} images):\".format(num_of_test))\n",
    "print(\"Correctly classified: {}\".format(nb_correct_pred))\n",
    "print(\"Incorrectly classified: {}\".format(num_of_test-nb_correct_pred))# which netural network"
   ]
  },
  {
   "cell_type": "markdown",
   "metadata": {},
   "source": [
    "### The original images"
   ]
  },
  {
   "cell_type": "code",
   "execution_count": 9,
   "metadata": {},
   "outputs": [
    {
     "data": {
      "image/png": "[encoded data removed]",
      "text/plain": [
       "<Figure size 1440x1440 with 10 Axes>"
      ]
     },
     "metadata": {
      "needs_background": "light"
     },
     "output_type": "display_data"
    }
   ],
   "source": [
    "fig = plt.figure(figsize=(20, 20))\n",
    "columns = 10\n",
    "rows = 1\n",
    "for i in range(1, columns*rows +1):\n",
    "    fig.add_subplot(rows, columns, i)\n",
    "    plt.axis('off')\n",
    "    plt.imshow(x_test[i].reshape((28,28)), cmap='gray')\n",
    "plt.show()"
   ]
  },
  {
   "cell_type": "markdown",
   "metadata": {},
   "source": [
    "# Attacked by FGSM"
   ]
  },
  {
   "cell_type": "code",
   "execution_count": 10,
   "metadata": {},
   "outputs": [],
   "source": [
    "attacker = FastGradientMethod(classifier, eps=0.5)\n",
    "x_test_adv = attacker.generate(x_test[:num_of_test])"
   ]
  },
  {
   "cell_type": "code",
   "execution_count": 11,
   "metadata": {},
   "outputs": [
    {
     "name": "stdout",
     "output_type": "stream",
     "text": [
      "Adversarial test data (first 500 images):\n",
      "Correctly classified: 149\n",
      "Incorrectly classified: 351\n"
     ]
    }
   ],
   "source": [
    "x_test_adv_pred = np.argmax(classifier.predict(x_test_adv), axis=1)\n",
    "nb_correct_adv_pred = np.sum(x_test_adv_pred == np.argmax(y_test[:num_of_test], axis=1))\n",
    "\n",
    "print(\"Adversarial test data (first 500 images):\")\n",
    "print(\"Correctly classified: {}\".format(nb_correct_adv_pred))\n",
    "print(\"Incorrectly classified: {}\".format(num_of_test-nb_correct_adv_pred))"
   ]
  },
  {
   "cell_type": "markdown",
   "metadata": {},
   "source": [
    "### Images generated by Fast Gradient Method"
   ]
  },
  {
   "cell_type": "code",
   "execution_count": 12,
   "metadata": {
    "scrolled": true
   },
   "outputs": [
    {
     "data": {
      "image/png": "[encoded data removed]",
      "text/plain": [
       "<Figure size 1440x1440 with 10 Axes>"
      ]
     },
     "metadata": {
      "needs_background": "light"
     },
     "output_type": "display_data"
    }
   ],
   "source": [
    "fig = plt.figure(figsize=(20, 20))\n",
    "columns = 10\n",
    "rows = 1\n",
    "for i in range(1, columns*rows +1):\n",
    "    fig.add_subplot(rows, columns, i)\n",
    "    plt.axis('off')\n",
    "    plt.imshow(x_test_adv[i].reshape((28,28)), cmap='gray')\n",
    "plt.show()"
   ]
  },
  {
   "cell_type": "markdown",
   "metadata": {},
   "source": [
    "### save the adversarial files generated by FGSM"
   ]
  },
  {
   "cell_type": "code",
   "execution_count": 13,
   "metadata": {},
   "outputs": [
    {
     "data": {
      "image/png": "[encoded data removed]",
      "text/plain": [
       "<Figure size 432x288 with 1 Axes>"
      ]
     },
     "metadata": {
      "needs_background": "light"
     },
     "output_type": "display_data"
    }
   ],
   "source": [
    "import matplotlib\n",
    "for i in range(num_of_test):\n",
    "    plt.axis('off')\n",
    "    matplotlib.image.imsave('fgsm_files/' + str(i) + '.png', x_test_adv[i].reshape((28,28)))"
   ]
  },
  {
   "cell_type": "markdown",
   "metadata": {},
   "source": [
    "# Attacked by CW"
   ]
  },
  {
   "cell_type": "code",
   "execution_count": 30,
   "metadata": {},
   "outputs": [],
   "source": [
    "from art.attacks.carlini import CarliniL2Method\n",
    "import logging"
   ]
  },
  {
   "cell_type": "code",
   "execution_count": 131,
   "metadata": {},
   "outputs": [],
   "source": [
    "num_of_test = 200\n",
    "attacker = CarliniL2Method(classifier, targeted=True, max_iter=100)\n",
    "params = {'y': random_targets(y_test, classifier.nb_classes)}\n",
    "x_test_adv = attacker.generate(x_test[:num_of_test], **params)"
   ]
  },
  {
   "cell_type": "code",
   "execution_count": 132,
   "metadata": {},
   "outputs": [
    {
     "name": "stdout",
     "output_type": "stream",
     "text": [
      "Adversarial test data (first 200 images):\n",
      "Correctly classified: 45\n",
      "Incorrectly classified: 155\n"
     ]
    }
   ],
   "source": [
    "x_test_adv_pred = np.argmax(classifier.predict(x_test_adv), axis=1)\n",
    "nb_correct_adv_pred = np.sum(x_test_adv_pred == np.argmax(y_test[:num_of_test], axis=1))\n",
    "\n",
    "print(\"Adversarial test data (first {} images):\".format(num_of_test))\n",
    "print(\"Correctly classified: {}\".format(nb_correct_adv_pred))\n",
    "print(\"Incorrectly classified: {}\".format(num_of_test-nb_correct_adv_pred)) # target or untarget"
   ]
  },
  {
   "cell_type": "markdown",
   "metadata": {},
   "source": [
    "### Images generated by CW Method"
   ]
  },
  {
   "cell_type": "markdown",
   "metadata": {},
   "source": [
    "The iamges are generated quite slow if using CW method"
   ]
  },
  {
   "cell_type": "code",
   "execution_count": 133,
   "metadata": {},
   "outputs": [
    {
     "data": {
      "image/png": "[encoded data removed]",
      "text/plain": [
       "<Figure size 1440x1440 with 10 Axes>"
      ]
     },
     "metadata": {
      "needs_background": "light"
     },
     "output_type": "display_data"
    }
   ],
   "source": [
    "fig = plt.figure(figsize=(20, 20))\n",
    "columns = 10\n",
    "rows = 1\n",
    "for i in range(1, columns*rows +1):\n",
    "    fig.add_subplot(rows, columns, i)\n",
    "    plt.axis('off')\n",
    "    plt.imshow(x_test_adv[i].reshape((28,28)), cmap='gray')\n",
    "plt.show()"
   ]
  },
  {
   "cell_type": "code",
   "execution_count": 134,
   "metadata": {},
   "outputs": [
    {
     "data": {
      "image/png": "[encoded data removed]",
      "text/plain": [
       "<Figure size 432x288 with 1 Axes>"
      ]
     },
     "metadata": {
      "needs_background": "light"
     },
     "output_type": "display_data"
    }
   ],
   "source": [
    "import matplotlib\n",
    "for i in range(num_of_test):\n",
    "    plt.axis('off')\n",
    "    matplotlib.image.imsave('cw/' + str(i) + '.png', x_test_adv[i].reshape((28,28)))"
   ]
  },
  {
   "cell_type": "markdown",
   "metadata": {},
   "source": [
    "----------------"
   ]
  },
  {
   "cell_type": "markdown",
   "metadata": {},
   "source": [
    "# Defense method"
   ]
  },
  {
   "cell_type": "markdown",
   "metadata": {},
   "source": [
    "### Accuracy when the input is JPEG format of adversarial examples generated by FGSM"
   ]
  },
  {
   "cell_type": "code",
   "execution_count": 56,
   "metadata": {},
   "outputs": [],
   "source": [
    "num_of_test = 500\n",
    "\n",
    "# transform to jpeg\n",
    "for i in range(num_of_test):\n",
    "    im = Image.open(\"fgsm_files/\" + str(i) + \".png\")\n",
    "    im = im.convert('RGB')\n",
    "    im.save(\"jpeg_fgsm_75/\" + str(i) + \".jpeg\", \"JPEG\", quality=75)"
   ]
  },
  {
   "cell_type": "code",
   "execution_count": 57,
   "metadata": {},
   "outputs": [],
   "source": [
    "from skimage import io\n",
    "p = []\n",
    "for i in range(num_of_test):\n",
    "    img = io.imread('jpeg_fgsm_75/' + str(i) + '.jpeg', as_gray=True)\n",
    "    img = img.reshape((28,28,1))\n",
    "    p.append(img)\n",
    "p = np.stack(tuple(p))"
   ]
  },
  {
   "cell_type": "code",
   "execution_count": 58,
   "metadata": {},
   "outputs": [],
   "source": [
    "# get the true label for these examples\n",
    "with open(\"true_label.txt\", \"r\") as f:\n",
    "    true_label = f.read()\n",
    "true_label = [int(i) for i in true_label]\n",
    "tmp = np.zeros((len(true_label), 10))\n",
    "for i, v in enumerate(true_label):\n",
    "    tmp[i][v] = 1\n",
    "true_label = tmp"
   ]
  },
  {
   "cell_type": "code",
   "execution_count": 59,
   "metadata": {},
   "outputs": [
    {
     "name": "stdout",
     "output_type": "stream",
     "text": [
      "Correctly classified: 160\n",
      "Incorrectly classified: 340\n"
     ]
    }
   ],
   "source": [
    "x_test_adv_pred = np.argmax(classifier.predict(p), axis=1)\n",
    "nb_correct_adv_pred = np.sum(x_test_adv_pred == np.argmax(true_label[:num_of_test], axis=1))\n",
    "\n",
    "print(\"Correctly classified: {}\".format(nb_correct_adv_pred))\n",
    "print(\"Incorrectly classified: {}\".format(num_of_test-nb_correct_adv_pred))"
   ]
  },
  {
   "cell_type": "markdown",
   "metadata": {},
   "source": [
    "### Accuracy when the input is JPEG format of adversarial examples generated by CW"
   ]
  },
  {
   "cell_type": "markdown",
   "metadata": {},
   "source": [
    "Transfrom png to jpeg with quality been 75"
   ]
  },
  {
   "cell_type": "code",
   "execution_count": 150,
   "metadata": {},
   "outputs": [],
   "source": [
    "num_of_test = 200\n",
    "for i in range(num_of_test):\n",
    "    im = Image.open(\"cw/\" + str(i) + \".png\")\n",
    "    im = im.convert('RGB')\n",
    "    im.save(\"jpeg_cw_75/\" + str(i) + \".jpeg\", \"JPEG\", quality=50)"
   ]
  },
  {
   "cell_type": "code",
   "execution_count": 151,
   "metadata": {},
   "outputs": [],
   "source": [
    "p = []\n",
    "for i in range(num_of_test):\n",
    "    img = io.imread('jpeg_cw_75/' + str(i) + '.jpeg', as_grey=True)\n",
    "    img = img.reshape((28,28,1))\n",
    "    p.append(img)\n",
    "p = np.stack(tuple(p))"
   ]
  },
  {
   "cell_type": "code",
   "execution_count": 152,
   "metadata": {},
   "outputs": [],
   "source": [
    "# get the true label for these examples\n",
    "with open(\"true_label.txt\", \"r\") as f:\n",
    "    true_label = f.read()\n",
    "true_label = [int(i) for i in true_label]\n",
    "tmp = np.zeros((len(true_label), 10))\n",
    "for i, v in enumerate(true_label):\n",
    "    tmp[i][v] = 1\n",
    "true_label = tmp"
   ]
  },
  {
   "cell_type": "code",
   "execution_count": 153,
   "metadata": {},
   "outputs": [
    {
     "name": "stdout",
     "output_type": "stream",
     "text": [
      "Correctly classified: 68\n",
      "Incorrectly classified: 132\n"
     ]
    }
   ],
   "source": [
    "x_test_adv_pred = np.argmax(classifier.predict(p), axis=1)\n",
    "nb_correct_adv_pred = np.sum(x_test_adv_pred == np.argmax(true_label[:num_of_test], axis=1))\n",
    "\n",
    "print(\"Correctly classified: {}\".format(nb_correct_adv_pred))\n",
    "print(\"Incorrectly classified: {}\".format(num_of_test-nb_correct_adv_pred))"
   ]
  },
  {
   "cell_type": "code",
   "execution_count": 149,
   "metadata": {},
   "outputs": [
    {
     "data": {
      "image/png": "[encoded data removed]",
      "text/plain": [
       "<Figure size 1440x1440 with 10 Axes>"
      ]
     },
     "metadata": {
      "needs_background": "light"
     },
     "output_type": "display_data"
    }
   ],
   "source": [
    "fig = plt.figure(figsize=(20, 20))\n",
    "columns = 10\n",
    "rows = 1\n",
    "for i in range(1, columns*rows +1):\n",
    "    fig.add_subplot(rows, columns, i)\n",
    "    plt.axis('off')\n",
    "    plt.imshow(p[i].reshape((28,28)), cmap='gray')\n",
    "plt.show()"
   ]
  },
  {
   "cell_type": "code",
   "execution_count": null,
   "metadata": {},
   "outputs": [],
   "source": []
  },
  {
   "cell_type": "markdown",
   "metadata": {},
   "source": [
    "-------"
   ]
  },
  {
   "cell_type": "markdown",
   "metadata": {},
   "source": [
    "### Accuracy when the input is filtered by high or low pass filter"
   ]
  },
  {
   "cell_type": "code",
   "execution_count": 6,
   "metadata": {},
   "outputs": [
    {
     "data": {
      "image/png": "[encoded data removed]",
      "text/plain": [
       "<Figure size 432x288 with 3 Axes>"
      ]
     },
     "metadata": {
      "needs_background": "light"
     },
     "output_type": "display_data"
    }
   ],
   "source": [
    "from scipy import ndimage\n",
    "from skimage import io\n",
    "import matplotlib\n",
    "\n",
    "def plot(data):\n",
    "    plot.i += 1\n",
    "    plt.subplot(2,2,plot.i)\n",
    "    plt.imshow(data)\n",
    "    plt.gray()\n",
    "plot.i = 0\n",
    "\n",
    "im = io.imread('cw/' + str(0) + '.png', as_gray=True)\n",
    "data = np.array(im, dtype=float)\n",
    "plot(data)\n",
    "\n",
    "lowpass = ndimage.gaussian_filter(data, 1)\n",
    "gauss_highpass = data - lowpass\n",
    "plot(lowpass)\n",
    "plot(gauss_highpass)"
   ]
  },
  {
   "cell_type": "markdown",
   "metadata": {},
   "source": [
    "# RESULT"
   ]
  },
  {
   "cell_type": "code",
   "execution_count": 164,
   "metadata": {},
   "outputs": [],
   "source": [
    "num_of_test = 200\n",
    "\n",
    "for i in range(num_of_test):\n",
    "    im = io.imread('cw/' + str(i) + '.png', as_gray=True)\n",
    "    data = np.array(im, dtype=float)\n",
    "\n",
    "    lowpass = ndimage.gaussian_filter(data, 1)\n",
    "    gauss_highpass = data - lowpass\n",
    "    matplotlib.image.imsave('low_pass_filter_cw/' + str(i) + '.png', lowpass)"
   ]
  },
  {
   "cell_type": "code",
   "execution_count": 165,
   "metadata": {},
   "outputs": [],
   "source": [
    "p = []\n",
    "for i in range(num_of_test):\n",
    "    img = io.imread('low_pass_filter_cw/' + str(i) + '.png', as_grey=True)\n",
    "    img = img.reshape((28,28,1))\n",
    "    p.append(img)\n",
    "p = np.stack(tuple(p))"
   ]
  },
  {
   "cell_type": "code",
   "execution_count": 166,
   "metadata": {},
   "outputs": [
    {
     "name": "stdout",
     "output_type": "stream",
     "text": [
      "Correctly classified: 198\n",
      "Incorrectly classified: 2\n"
     ]
    }
   ],
   "source": [
    "x_test_adv_pred = np.argmax(classifier.predict(p), axis=1)\n",
    "nb_correct_adv_pred = np.sum(x_test_adv_pred == np.argmax(true_label[:num_of_test], axis=1))\n",
    "\n",
    "print(\"Correctly classified: {}\".format(nb_correct_adv_pred))\n",
    "print(\"Incorrectly classified: {}\".format(num_of_test-nb_correct_adv_pred))"
   ]
  },
  {
   "cell_type": "code",
   "execution_count": 167,
   "metadata": {},
   "outputs": [
    {
     "data": {
      "image/png": "[encoded data removed]",
      "text/plain": [
       "<Figure size 1440x1440 with 10 Axes>"
      ]
     },
     "metadata": {
      "needs_background": "light"
     },
     "output_type": "display_data"
    }
   ],
   "source": [
    "fig = plt.figure(figsize=(20, 20))\n",
    "columns = 10\n",
    "rows = 1\n",
    "for i in range(1, columns*rows +1):\n",
    "    fig.add_subplot(rows, columns, i)\n",
    "    plt.axis('off')\n",
    "    plt.imshow(p[i].reshape((28,28)), cmap='gray')\n",
    "plt.show()"
   ]
  },
  {
   "cell_type": "code",
   "execution_count": null,
   "metadata": {},
   "outputs": [],
   "source": []
  },
  {
   "cell_type": "code",
   "execution_count": 191,
   "metadata": {},
   "outputs": [],
   "source": [
    "p = []\n",
    "for i in range(num_of_test):\n",
    "    img = io.imread('jpeg_cw_10/' + str(i) + '.jpeg', as_grey=True)\n",
    "    img = img.reshape((28,28,1))\n",
    "    p.append(img)\n",
    "p = np.stack(tuple(p))"
   ]
  },
  {
   "cell_type": "code",
   "execution_count": 192,
   "metadata": {},
   "outputs": [
    {
     "data": {
      "image/png": "[encoded data removed]",
      "text/plain": [
       "<Figure size 1440x1440 with 10 Axes>"
      ]
     },
     "metadata": {
      "needs_background": "light"
     },
     "output_type": "display_data"
    }
   ],
   "source": [
    "fig = plt.figure(figsize=(20, 20))\n",
    "columns = 10\n",
    "rows = 1\n",
    "for i in range(1, columns*rows +1):\n",
    "    fig.add_subplot(rows, columns, i)\n",
    "    plt.axis('off')\n",
    "    plt.imshow(p[i].reshape((28,28)), cmap='gray')\n",
    "plt.show()"
   ]
  },
  {
   "cell_type": "code",
   "execution_count": null,
   "metadata": {},
   "outputs": [],
   "source": []
  },
  {
   "cell_type": "code",
   "execution_count": 8,
   "metadata": {},
   "outputs": [],
   "source": [
    "p = []\n",
    "num_of_test = 200\n",
    "for i in range(num_of_test):\n",
    "    img = io.imread('hr/' + str(i) + '_ne1x.png', as_gray=True)\n",
    "    img = img.reshape((28,28,1))\n",
    "    p.append(img)\n",
    "p = np.stack(tuple(p))"
   ]
  },
  {
   "cell_type": "code",
   "execution_count": 9,
   "metadata": {},
   "outputs": [],
   "source": [
    "# get the true label for these examples\n",
    "with open(\"true_label.txt\", \"r\") as f:\n",
    "    true_label = f.read()\n",
    "true_label = [int(i) for i in true_label]\n",
    "tmp = np.zeros((len(true_label), 10))\n",
    "for i, v in enumerate(true_label):\n",
    "    tmp[i][v] = 1\n",
    "true_label = tmp"
   ]
  },
  {
   "cell_type": "code",
   "execution_count": 10,
   "metadata": {},
   "outputs": [
    {
     "name": "stdout",
     "output_type": "stream",
     "text": [
      "Correctly classified: 196\n",
      "Incorrectly classified: 4\n"
     ]
    }
   ],
   "source": [
    "x_test_adv_pred = np.argmax(classifier.predict(p), axis=1)\n",
    "nb_correct_adv_pred = np.sum(x_test_adv_pred == np.argmax(true_label[:num_of_test], axis=1))\n",
    "\n",
    "print(\"Correctly classified: {}\".format(nb_correct_adv_pred))\n",
    "print(\"Incorrectly classified: {}\".format(num_of_test-nb_correct_adv_pred))"
   ]
  },
  {
   "cell_type": "code",
   "execution_count": 11,
   "metadata": {},
   "outputs": [
    {
     "data": {
      "image/png": "[encoded data removed]",
      "text/plain": [
       "<Figure size 1440x1440 with 10 Axes>"
      ]
     },
     "metadata": {
      "needs_background": "light"
     },
     "output_type": "display_data"
    }
   ],
   "source": [
    "fig = plt.figure(figsize=(20, 20))\n",
    "columns = 10\n",
    "rows = 1\n",
    "for i in range(1, columns*rows +1):\n",
    "    fig.add_subplot(rows, columns, i)\n",
    "    plt.axis('off')\n",
    "    plt.imshow(p[i].reshape((28,28)), cmap='gray')\n",
    "plt.show()"
   ]
  },
  {
   "cell_type": "code",
   "execution_count": null,
   "metadata": {},
   "outputs": [],
   "source": []
  },
  {
   "cell_type": "code",
   "execution_count": null,
   "metadata": {},
   "outputs": [],
   "source": []
  },
  {
   "cell_type": "code",
   "execution_count": 25,
   "metadata": {},
   "outputs": [
    {
     "data": {
      "image/png": "[encoded data removed]",
      "text/plain": [
       "<Figure size 432x288 with 1 Axes>"
      ]
     },
     "metadata": {
      "needs_background": "light"
     },
     "output_type": "display_data"
    }
   ],
   "source": [
    "def plot(data):\n",
    "    plot.i += 1\n",
    "    plt.subplot(2,2,plot.i)\n",
    "    plt.imshow(data)\n",
    "    plt.gray()\n",
    "plot.i = 0\n",
    "\n",
    "im = io.imread('0_ne1x.png', as_gray=True)\n",
    "data = np.array(im, dtype=float)\n",
    "plot(data)"
   ]
  },
  {
   "cell_type": "code",
   "execution_count": 27,
   "metadata": {},
   "outputs": [],
   "source": [
    "matplotlib.image.imsave('0_ne1xxx.png', data)"
   ]
  },
  {
   "cell_type": "code",
   "execution_count": null,
   "metadata": {},
   "outputs": [],
   "source": []
  }
 ],
 "metadata": {
  "kernelspec": {
   "display_name": "Python 3",
   "language": "python",
   "name": "python3"
  },
  "language_info": {
   "codemirror_mode": {
    "name": "ipython",
    "version": 3
   },
   "file_extension": ".py",
   "mimetype": "text/x-python",
   "name": "python",
   "nbconvert_exporter": "python",
   "pygments_lexer": "ipython3",
   "version": "3.5.2"
  }
 },
 "nbformat": 4,
 "nbformat_minor": 2
}
